{
 "cells": [
  {
   "cell_type": "markdown",
   "metadata": {},
   "source": [
    "A Sample Python code for extracting data from spareroom(https://www.spareroom.co.uk/) and storing data in a mysql database. \n",
    "Spareroom does not have an API, so I parse the website with Bueatifulsoupe package of python and\n",
    "clean it in a simple way to only include my preferences. It asks the user the number of rooms,\n",
    "and the location they want to look for, and store the data based on the last update. \n",
    "\n",
    "An example file of London data is uploaded, one can select data based on their preference from the data base. \n",
    "\n",
    "BY **Fatimah Ahmadi** "
   ]
  },
  {
   "cell_type": "code",
   "execution_count": 124,
   "metadata": {},
   "outputs": [],
   "source": [
    "#packages \n",
    "import mysql.connector, requests, re\n",
    "from bs4 import BeautifulSoup"
   ]
  },
  {
   "cell_type": "code",
   "execution_count": 125,
   "metadata": {},
   "outputs": [],
   "source": [
    "# create the database change your user and pass accordingly\n",
    "cnx = mysql.connector.connect(user=\"root\", password=\"@Ahmadi1368\", database=\"rooms\")\n",
    "cursor = cnx.cursor()\n",
    "storage_of_id = []"
   ]
  },
  {
   "cell_type": "code",
   "execution_count": 126,
   "metadata": {},
   "outputs": [],
   "source": [
    "#url of website, cases are updated based on last update\n",
    "url = \"https://www.spareroom.co.uk/flatshare/\"\n",
    "sorting = \"?sort_by=last_updated\"\n",
    "\n",
    "def url_func(location):\n",
    "    return url+location.lower()"
   ]
  },
  {
   "cell_type": "code",
   "execution_count": 127,
   "metadata": {},
   "outputs": [],
   "source": [
    "#extract ids of webpage for each case\n",
    "def ides(number, location):\n",
    "    main_page = url_func(location)+\"/page\"+str(number)+sorting\n",
    "    page = requests.get(main_page)\n",
    "    soup = BeautifulSoup(page.text, \"html.parser\")\n",
    "    id_list = soup.find_all(\"li\", attrs={\"class\":\"listing-result\"})\n",
    "    ids = []\n",
    "    for item in  id_list:\n",
    "        ids.append(item.attrs[\"data-listing-id\"])\n",
    "    return ids"
   ]
  },
  {
   "cell_type": "code",
   "execution_count": 128,
   "metadata": {},
   "outputs": [],
   "source": [
    "def count(item1, list_items):\n",
    "    for item in list_items:\n",
    "        if item1 in item.text:\n",
    "            return item\n",
    "  \n",
    "    return None"
   ]
  },
  {
   "cell_type": "code",
   "execution_count": 129,
   "metadata": {},
   "outputs": [],
   "source": [
    "#extract details or room and data from a page specified with an id. \n",
    "def extract_data(id_num):\n",
    "    main_page = \"https://www.spareroom.co.uk/flatshare/flatshare_detail.pl?featured=1&flatshare_id={}&search_id=&search_results=%2Fflatshare%2Foxford%2Fpage2%3Fsort_by%3Dlast_updated\".format(id_num)\n",
    "    page = requests.get(main_page)\n",
    "    soup = BeautifulSoup(page.text, \"html.parser\")\n",
    "    current_keys = ['# housemates', 'Total # rooms', 'Ages', 'Smoker?', 'Any pets?', 'Language', 'Nationality', 'Occupation','Interests','Gender']\n",
    "    future_keys = ['Couples OK?', 'Smoking OK?', 'Pets OK?', 'Occupation','Housing Benefit', 'Min age', 'Max age', 'Gender']\n",
    "\n",
    "    #Location\n",
    "    loc = soup.find(\"section\", attrs={\"class\":\"feature feature--details\"})\n",
    "    if loc != None:\n",
    "        loc2 = re.sub(\"\\s+\", \" \", loc.text).split(\" \")\n",
    "        location = loc2[2]\n",
    "        postal_code =  loc2[3]\n",
    "    else:\n",
    "        location = \"Note Mentioned\"\n",
    "        postal_code =  \"Note Mentioned\"\n",
    "\n",
    "\n",
    "    #Price\n",
    "    price1= soup.find(attrs={\"class\":\"room-list__price\"})\n",
    "    if price1 != None:\n",
    "        price = \"\".join(c for c in price1.text if c.isdigit())\n",
    "    else:\n",
    "        price2= soup.find(attrs={\"class\":\"feature feature--price-whole-property\"})\n",
    "        price22=price2.find(\"h3\")\n",
    "        price = \"\".join(c for c in price22.text if c.isdigit())\n",
    "        \n",
    "    #availability\n",
    "    avl1=soup.find(attrs={\"class\":\"feature feature--availability\"}).text\n",
    "    avl2= re.sub(\"\\s+\", \" \", avl1).strip()\n",
    "    avl3=re.sub(\"Availability\", \"\", avl2).strip()\n",
    "    Availability = avl3\n",
    "\n",
    "    #Deposit and Bills\n",
    "    dep1 = soup.find(attrs={\"class\":\"feature feature--extra-cost\"})\n",
    "    dep_values = dep1.find_all(attrs={\"class\":\"feature-list__value\"})\n",
    "    dep_keys = dep1.find_all(attrs={\"class\":\"feature-list__key\"})\n",
    "    dep_bill = {}\n",
    "\n",
    "    if len(dep_keys) >= 3:\n",
    "        dep_keys.remove(dep_keys[1])\n",
    "        dep_values.remove(dep_values[1])\n",
    "\n",
    "    if count(\"Deposit\", dep_keys ) == None:\n",
    "        dep_bill[\"Deposit\"] = \"Not Mentioned\"\n",
    "    else:\n",
    "        dep_bill[\"Deposit\"] = dep_values[dep_keys.index(count(\"Deposit\", dep_keys ))].text\n",
    "\n",
    "\n",
    "    if count(\"Bill\", dep_keys) == None:\n",
    "        dep_bill[\"Bill\"] = \"Not Mentioned\"\n",
    "    else:\n",
    "        dep_bill[\"Bill\"] = dep_values[dep_keys.index(count(\"Bill\", dep_keys))].text\n",
    "\n",
    "    \n",
    "    #current_household\n",
    "    house = soup.find(attrs={\"class\":\"feature feature--current-household\"})\n",
    "    current_mates = {}\n",
    "    house_keys2 = []\n",
    "    if house != None:\n",
    "        house_values = house.find_all(attrs={\"class\":\"feature-list__value\"})\n",
    "        house_keys = house.find_all(attrs={\"class\":\"feature-list__key\"})\n",
    "        for num in range(0, len(house_keys)):\n",
    "            key = re.sub(\"\\s+\", \" \", house_keys[num].text.strip())\n",
    "            house_keys2.append(key)\n",
    "            value = re.sub(\"\\s+\", \" \", house_values[num].text.strip())\n",
    "            current_mates[key] = value\n",
    "    else:\n",
    "        for item in current_keys:\n",
    "            current_mates[item] = \" \"\n",
    "\n",
    "\n",
    "    for name in current_keys:\n",
    "        if name not in house_keys2:\n",
    "            current_mates[name] = \" \"\n",
    "\n",
    "\n",
    "    #future_housemate\n",
    "    mate = soup.find(attrs={\"class\":\"feature feature--household-preferences\"})\n",
    "    future_mates={}\n",
    "    mate_keys2=[]\n",
    "    if mate != None:\n",
    "        mate_values = mate.find_all(attrs={\"class\":\"feature-list__value\"})\n",
    "        mate_keys = mate.find_all(attrs={\"class\":\"feature-list__key\"})\n",
    "\n",
    " \n",
    "        for num in range(0, len(mate_keys)):\n",
    "            key = re.sub(\"\\s+\", \" \", mate_keys[num].text.strip())\n",
    "            mate_keys2.append(key)\n",
    "            value = re.sub(\"\\s+\", \" \", mate_values[num].text.strip())\n",
    "            future_mates[key] = value\n",
    "        \n",
    "    else:\n",
    "        for item in future_keys:\n",
    "            future_mates[item] = \" \"\n",
    "            \n",
    "    for name in future_keys:\n",
    "        if name not in mate_keys2:\n",
    "            future_mates[name] = \" \"\n",
    "\n",
    "    #store in a single tuples\n",
    "    return (id_num, location, postal_code, price, Availability, \n",
    "            dep_bill[\"Deposit\"], dep_bill[\"Bill\"], current_mates['# housemates'], \n",
    "            current_mates['Total # rooms'], current_mates['Ages'], current_mates['Smoker?'],  \n",
    "            current_mates['Any pets?'], current_mates['Language'], current_mates['Nationality'], \n",
    "            current_mates['Occupation'], current_mates['Gender'], future_mates['Couples OK?'], \n",
    "            future_mates['Smoking OK?'], future_mates['Pets OK?'], future_mates['Occupation'], \n",
    "            future_mates['Housing Benefit'], future_mates['Min age'], future_mates['Max age'], \n",
    "            future_mates['Gender'] )"
   ]
  },
  {
   "cell_type": "code",
   "execution_count": 121,
   "metadata": {},
   "outputs": [],
   "source": [
    "#create the table \n",
    "def table_maker(location, cursor, cnx):\n",
    "    cursor.execute(\"Drop table IF EXISTS {}\".format(location))\n",
    "    cnx.commit()\n",
    "    cursor.execute(\"Create Table {} (id varchar(500), Location varchar(500), Postcode varchar(500), Rent varchar(500), Availability varchar(200), Deposite varchar(500), Bills varchar(500), Housemates varchar(500), Total_Room varchar(500), Current_Age varchar(500), Current_Smoker varchar(500), Current_Pets varchar(500), Language varchar(500), Nationality varchar(500), Current_Occupation varchar(500), Current_Gender varchar(500), Future_Couples varchar(500), Future_Smoker varchar(500), Future_Pets varchar(500), Future_Occupation varchar(500), Housing_Benefits varchar(500), Future_Age_Min varchar(500), Future_Age_Max varchar(500), Future_Gender varchar(500))\".format(location))\n",
    "    cnx.commit();\n",
    "    \n",
    "#writing data into a mysql database\n",
    "def writing(id_num, location, cursor, cnx):\n",
    "    command = \"INSERT INTO {} Values (%s, %s, %s, %s, %s, %s, %s, %s, %s, %s, %s,%s, %s, %s, %s, %s, %s, %s, %s, %s, %s, %s, %s, %s)\".format(location)\n",
    "    values = extract_data(id_num)\n",
    "    cursor.execute(command, values); cnx.commit()\n",
    "\n",
    "#filling the table\n",
    "def filling_table(row, location, cursor, cnx):\n",
    "    table_maker(location, cursor, cnx)\n",
    "    for i in range(0, row, 10):\n",
    "        list_ids = ides(i, location)\n",
    "        for id_num in list_ids:\n",
    "            writing(id_num, location, cursor, cnx)\n",
    "    print(\"END of Programme\")"
   ]
  },
  {
   "cell_type": "code",
   "execution_count": 122,
   "metadata": {},
   "outputs": [
    {
     "name": "stdout",
     "output_type": "stream",
     "text": [
      "How many cases you want to store? 100\n",
      "City? Oxford\n",
      "END of Programme\n"
     ]
    }
   ],
   "source": [
    "row = int(input(\"How many cases you want to store? \"))\n",
    "location = input(\"City? \")\n",
    "filling_table(row, location, cursor, cnx)"
   ]
  },
  {
   "cell_type": "code",
   "execution_count": null,
   "metadata": {},
   "outputs": [],
   "source": []
  }
 ],
 "metadata": {
  "kernelspec": {
   "display_name": "Python 3",
   "language": "python",
   "name": "python3"
  },
  "language_info": {
   "codemirror_mode": {
    "name": "ipython",
    "version": 3
   },
   "file_extension": ".py",
   "mimetype": "text/x-python",
   "name": "python",
   "nbconvert_exporter": "python",
   "pygments_lexer": "ipython3",
   "version": "3.8.3"
  }
 },
 "nbformat": 4,
 "nbformat_minor": 4
}
